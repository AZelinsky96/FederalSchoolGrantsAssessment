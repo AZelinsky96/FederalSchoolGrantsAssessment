{
 "cells": [
  {
   "cell_type": "markdown",
   "metadata": {},
   "source": [
    "# An Examination of School Improvement Grants 2010"
   ]
  },
  {
   "cell_type": "markdown",
   "metadata": {},
   "source": [
    "## The questions I want to answer:\n",
    "============================================\n",
    "\n",
    "1. What is the total amount of funding? How much of the funding is allocated to each type of school models?  \n",
    "\n",
    "2. How much money allocated to each State? Are certain States allocated more money than others?\n",
    "\n",
    "3. What types of models of reform did schools choose in each state. What are the most prevelant types of models chosen in each state?\n",
    "\n",
    "4. How much money is allocated to each state based upon the models chosen?\n",
    "\n",
    "5. Which Districts have the most amount of money pledged to them? \n",
    "\n",
    "6. What is the amount of funding allocated to each school and type of model they have chosen?\n"
   ]
  },
  {
   "cell_type": "code",
   "execution_count": 1,
   "metadata": {},
   "outputs": [
    {
     "data": {
      "text/html": [
       "<script>requirejs.config({paths: { 'plotly': ['https://cdn.plot.ly/plotly-latest.min']},});if(!window.Plotly) {{require(['plotly'],function(plotly) {window.Plotly=plotly;});}}</script>"
      ],
      "text/vnd.plotly.v1+html": [
       "<script>requirejs.config({paths: { 'plotly': ['https://cdn.plot.ly/plotly-latest.min']},});if(!window.Plotly) {{require(['plotly'],function(plotly) {window.Plotly=plotly;});}}</script>"
      ]
     },
     "metadata": {},
     "output_type": "display_data"
    }
   ],
   "source": [
    "from urllib.request import urlretrieve\n",
    "import pandas as pd\n",
    "from plotly.offline import download_plotlyjs, init_notebook_mode, plot, iplot\n",
    "import plotly.plotly as py\n",
    "import plotly.graph_objs as go\n",
    "from plotly import tools\n",
    "from scipy.stats import shapiro\n",
    "import numpy as np\n",
    "import matplotlib.pyplot as plt\n",
    "# requires version >= 1.9.0\n",
    "init_notebook_mode(connected=True) # run at the start of every notebook\n",
    "\n",
    "#importing all necessary modules"
   ]
  },
  {
   "cell_type": "code",
   "execution_count": 2,
   "metadata": {},
   "outputs": [],
   "source": [
    "!cd ~/Documents/Data_Science/DataSets\n",
    "#Changing my directory to download csv"
   ]
  },
  {
   "cell_type": "code",
   "execution_count": 3,
   "metadata": {},
   "outputs": [],
   "source": [
    "url= 'https://inventory.data.gov/dataset/ce23c458-9c25-4bcc-a7bd-0490641dec8e/resource/9665a448-6f2f-4872-99b9-bf12b5af84f4/download/userssharedsdfschoolimprovement2010grants.csv'\n",
    "#Passing the the url to the url variable for retrieval\n",
    "_=urlretrieve(url,'Schools.csv')\n",
    "#Using the url retrieval tool to pull the file off the web and create a csv named Schools.csv"
   ]
  },
  {
   "cell_type": "markdown",
   "metadata": {},
   "source": [
    "# Exploring the structure of the data for analysis"
   ]
  },
  {
   "cell_type": "code",
   "execution_count": 4,
   "metadata": {},
   "outputs": [
    {
     "name": "stdout",
     "output_type": "stream",
     "text": [
      "The columns for school dataframe\n",
      "Index(['School Name', 'City', 'State', 'District Name', '2010/11/Award Amount',\n",
      "       'Model Selected', 'Location'],\n",
      "      dtype='object')\n",
      "\n",
      "The data structure for the school dataframe\n",
      "<class 'pandas.core.frame.DataFrame'>\n",
      "RangeIndex: 831 entries, 0 to 830\n",
      "Data columns (total 7 columns):\n",
      "School Name             831 non-null object\n",
      "City                    831 non-null object\n",
      "State                   831 non-null object\n",
      "District Name           831 non-null object\n",
      "2010/11/Award Amount    757 non-null object\n",
      "Model Selected          825 non-null object\n",
      "Location                831 non-null object\n",
      "dtypes: object(7)\n",
      "memory usage: 45.5+ KB\n",
      "None\n"
     ]
    }
   ],
   "source": [
    "schooldfs= pd.read_csv('Schools.csv')\n",
    "#Reading the csv file fro the directory i placed it in.\n",
    "print('The columns for school dataframe')\n",
    "print(schooldfs.columns)\n",
    "#Looking at the columns for the DataFrame\n",
    "print('\\nThe data structure for the school dataframe')\n",
    "print(schooldfs.info())\n",
    "#Examining the information for each of the columns."
   ]
  },
  {
   "cell_type": "markdown",
   "metadata": {},
   "source": [
    "===============================================================\n",
    "\n",
    "\n",
    "I see that we have some missing values in columns above. I will have to examine the metadata at https://catalog.data.gov/dataset/school-improvement-2010-grants.\n",
    "\n",
    "==============================================================="
   ]
  },
  {
   "cell_type": "markdown",
   "metadata": {},
   "source": [
    "### Cleaning and Transformation"
   ]
  },
  {
   "cell_type": "code",
   "execution_count": 5,
   "metadata": {},
   "outputs": [
    {
     "name": "stdout",
     "output_type": "stream",
     "text": [
      "\n",
      "To check to see if my operation worked.\n",
      "<class 'numpy.float64'>\n",
      "I noticed earlier that I had missing values for the Award columns, I am going to identify the sum of the award to see if it is comparable to the total allocated money. 3.5 billion.\n",
      "318566716.0\n"
     ]
    }
   ],
   "source": [
    "schooldfs['2010/11/Award Amount']=schooldfs['2010/11/Award Amount'].str.replace('$', ' ').astype('float')\n",
    "# Reformatting the Award column because I want to perform analysis using this column. So therefore it needs be cast from an object type('string') to a float.\n",
    "print('\\nTo check to see if my operation worked.')\n",
    "print(type(schooldfs['2010/11/Award Amount'][0]))\n",
    "#Checking to see if the operation worked.\n",
    "schooldfs.columns=['School Name', 'City', 'State', 'District Name', 'Award Amount', 'Model Selected','Location']\n",
    "# I wanted to rename the award amount column to something a little more readable\n",
    "print('I noticed earlier that I had missing values for the Award columns, I am going to identify the sum of the award to see if it is comparable to the total allocated money. 3.5 billion.')\n",
    "print(schooldfs['Award Amount'].sum())\n"
   ]
  },
  {
   "cell_type": "markdown",
   "metadata": {},
   "source": [
    "==================\n",
    "\n",
    "The sum of the award amount is displayed above. Given that the government likes to overexaggerate it's numbers at times, and the word choice was nearly 3.5 billion, there could be a case to replace the missing values with zeroes. However, this will have to investigated further. I am going to isolate the null values and start looking through them per state and district to see if there is a correlation.\n",
    "\n",
    "=================="
   ]
  },
  {
   "cell_type": "code",
   "execution_count": 6,
   "metadata": {},
   "outputs": [
    {
     "name": "stdout",
     "output_type": "stream",
     "text": [
      "<class 'pandas.core.frame.DataFrame'>\n",
      "Int64Index: 74 entries, 280 to 748\n",
      "Data columns (total 7 columns):\n",
      "School Name       74 non-null object\n",
      "City              74 non-null object\n",
      "State             74 non-null object\n",
      "District Name     74 non-null object\n",
      "Award Amount      0 non-null float64\n",
      "Model Selected    68 non-null object\n",
      "Location          74 non-null object\n",
      "dtypes: float64(1), object(6)\n",
      "memory usage: 4.6+ KB\n",
      "None\n"
     ]
    }
   ],
   "source": [
    "null=schooldfs[schooldfs['Award Amount'].isnull()]\n",
    "#Checking the Dataframe for null values.\n",
    "print(null.info())"
   ]
  },
  {
   "cell_type": "markdown",
   "metadata": {},
   "source": [
    "================\n",
    "\n",
    "I am going to examine the state and districts for the null values. I am going to delete the null values and see if the count of states or districts has dropped. First I will start with states.\n",
    "\n",
    "================"
   ]
  },
  {
   "cell_type": "code",
   "execution_count": 7,
   "metadata": {
    "scrolled": true
   },
   "outputs": [
    {
     "name": "stdout",
     "output_type": "stream",
     "text": [
      "========================================\n",
      "Layout of the Dataframe before deleting the null values:\n",
      "\n",
      "<class 'pandas.core.frame.DataFrame'>\n",
      "RangeIndex: 831 entries, 0 to 830\n",
      "Data columns (total 7 columns):\n",
      "School Name       831 non-null object\n",
      "City              831 non-null object\n",
      "State             831 non-null object\n",
      "District Name     831 non-null object\n",
      "Award Amount      757 non-null float64\n",
      "Model Selected    825 non-null object\n",
      "Location          831 non-null object\n",
      "dtypes: float64(1), object(6)\n",
      "memory usage: 45.5+ KB\n",
      "None\n",
      "========================================\n",
      "Summary Statistics before deleting the null values:\n",
      "\n",
      "count       757.000000\n",
      "mean     420827.894320\n",
      "std      287458.053183\n",
      "min           1.000000\n",
      "25%      162541.000000\n",
      "50%      407794.000000\n",
      "75%      671142.000000\n",
      "max      997852.000000\n",
      "Name: Award Amount, dtype: float64\n",
      "========================================\n",
      "Number of States before deleting the null values:\n",
      "\n",
      "50\n",
      "========================================\n",
      "Number of States After deleting the null values:\n",
      "\n",
      "46\n",
      "========================================\n",
      "The layout of the Dataframe after the deletion of the null values:\n",
      "\n",
      "<class 'pandas.core.frame.DataFrame'>\n",
      "Int64Index: 757 entries, 0 to 830\n",
      "Data columns (total 7 columns):\n",
      "School Name       757 non-null object\n",
      "City              757 non-null object\n",
      "State             757 non-null object\n",
      "District Name     757 non-null object\n",
      "Award Amount      757 non-null float64\n",
      "Model Selected    757 non-null object\n",
      "Location          757 non-null object\n",
      "dtypes: float64(1), object(6)\n",
      "memory usage: 47.3+ KB\n",
      "None\n",
      "\n",
      "=================================\n",
      "Summary statistics for the dataframe after deleting the null values:\n",
      "\n",
      "count       757.000000\n",
      "mean     420827.894320\n",
      "std      287458.053183\n",
      "min           1.000000\n",
      "25%      162541.000000\n",
      "50%      407794.000000\n",
      "75%      671142.000000\n",
      "max      997852.000000\n",
      "Name: Award Amount, dtype: float64\n"
     ]
    }
   ],
   "source": [
    "print('========================================\\nLayout of the Dataframe before deleting the null values:\\n')\n",
    "print(schooldfs.info())\n",
    "print('========================================\\nSummary Statistics before deleting the null values:\\n')\n",
    "print(schooldfs['Award Amount'].describe())\n",
    "print('========================================\\nNumber of States before deleting the null values:\\n')\n",
    "print(schooldfs.State.nunique())\n",
    "print('========================================')\n",
    "\n",
    "schooldfs.dropna(subset=['Award Amount'],inplace=True)\n",
    "\n",
    "print('Number of States After deleting the null values:\\n')\n",
    "print(schooldfs.State.nunique())\n",
    "print('========================================\\nThe layout of the Dataframe after the deletion of the null values:\\n')\n",
    "print(schooldfs.info())\n",
    "print('\\n=================================\\nSummary statistics for the dataframe after deleting the null values:\\n')\n",
    "print(schooldfs['Award Amount'].describe())"
   ]
  },
  {
   "cell_type": "markdown",
   "metadata": {},
   "source": [
    "===================\n",
    "\n",
    "It looks like entire states have missing records. For the purpose of this analysis in the time being, I will leave the states that have the null values in the null table. I will leave them removed from the dataset with the proper values- schooldfs. The descriptive statistics haven't changed. For future reference, it might be worth contacting the creator of this data set to see if you could retrive the missing records for the states.\n",
    "\n",
    "==================="
   ]
  },
  {
   "cell_type": "markdown",
   "metadata": {},
   "source": [
    "# Testing For Normality\n",
    "\n",
    "I am going to test the normality of the Award Amount Data. This is a pertinent issue because if the distribution is abnormal and there is a large collection of outliers, then descriptive statistics like mean will have to be used with caution as it will skew the output statistic much the distribution is skewed."
   ]
  },
  {
   "cell_type": "code",
   "execution_count": 8,
   "metadata": {
    "scrolled": true
   },
   "outputs": [
    {
     "data": {
      "image/png": "[encoded data removed]",
      "text/plain": [
       "<Figure size 432x288 with 1 Axes>"
      ]
     },
     "metadata": {},
     "output_type": "display_data"
    }
   ],
   "source": [
    "_=schooldfs['Award Amount'].plot.hist(bins=20)\n",
    "plt.show()"
   ]
  },
  {
   "cell_type": "code",
   "execution_count": 9,
   "metadata": {},
   "outputs": [
    {
     "name": "stdout",
     "output_type": "stream",
     "text": [
      "250314.10568031704\n",
      "258286.89431968296\n",
      "The differences between the 75th quartile-mean, and the mean-25th quartile are roughly the same.\n"
     ]
    }
   ],
   "source": [
    "quartile75=671142\n",
    "mean=schooldfs['Award Amount'].mean()\n",
    "quartile25=162541\n",
    "\n",
    "difference75_mean=quartile75-mean\n",
    "print(difference75_mean)\n",
    "differencemean_25=mean-quartile25\n",
    "print(differencemean_25)\n",
    "\n",
    "print('The differences between the 75th quartile-mean, and the mean-25th quartile are roughly the same.')\n"
   ]
  },
  {
   "cell_type": "code",
   "execution_count": 10,
   "metadata": {},
   "outputs": [
    {
     "name": "stdout",
     "output_type": "stream",
     "text": [
      "Statistics=0.941, p=0.000\n",
      "reject H0,\n",
      "Data is likely not normally distributed\n"
     ]
    }
   ],
   "source": [
    "npAward=np.array(schooldfs['Award Amount'])\n",
    "#Converting the Award series to a numpy array and storing it in it's own variable. \n",
    "#Setting the alpha level and runnning the test.\n",
    "alpha=0.05\n",
    "stat,p=shapiro(npAward)\n",
    "print('Statistics=%.3f, p=%.3f' %(stat, p))\n",
    "#Setting up the interpretation of the test.\n",
    "if p > alpha:\n",
    "    print('fail to reject null hypothesis\\nData is normally distributed')\n",
    "else:\n",
    "    print('reject H0,\\nData is likely not normally distributed')"
   ]
  },
  {
   "cell_type": "markdown",
   "metadata": {},
   "source": [
    "===========================\n",
    "\n",
    "After examining all three tells of the normality test, it is safe to assume that the data found within the Award column is not normally distributed.Caution to the use of the statistic mean. The data is skewed to the left, meaning that the use of average is more representative to the lower values of the distribution. Were the distribution normally distributed, I would place more weight to the use of average. Because of failure of normal distribution, for the purpose of this project, I will only use the Sum to make comparisons and report on them. \n",
    "\n",
    "=========================="
   ]
  },
  {
   "cell_type": "markdown",
   "metadata": {},
   "source": [
    "# Grouping the Data"
   ]
  },
  {
   "cell_type": "code",
   "execution_count": 11,
   "metadata": {},
   "outputs": [],
   "source": [
    "schooldfs['Nat_Award_Sum']=schooldfs['Award Amount'].sum()\n",
    "\n",
    "# Creating a column that contains the sum so it can be used for comparison later"
   ]
  },
  {
   "cell_type": "markdown",
   "metadata": {},
   "source": [
    "### Grouping by District"
   ]
  },
  {
   "cell_type": "code",
   "execution_count": 12,
   "metadata": {},
   "outputs": [],
   "source": [
    "bydistrict= schooldfs.groupby(['State','District Name'])\n",
    "# As the first step in analysis, I am grouping the dataset by State and district to calculate the sum of award allocation for each district per state\n",
    "\n",
    "distsum=bydistrict['Award Amount'].agg('sum')\n",
    "#aggregating the groupby by sum for analysis\n",
    "\n",
    "DistSum= pd.DataFrame(distsum)# Creating a dataframe so I can utilize later and merge if need be\n",
    "DistSum.columns=['District_Sum']"
   ]
  },
  {
   "cell_type": "markdown",
   "metadata": {},
   "source": [
    "## Grouping by State"
   ]
  },
  {
   "cell_type": "code",
   "execution_count": 13,
   "metadata": {},
   "outputs": [],
   "source": [
    "bystate=schooldfs.loc[:,['State','Award Amount','Nat_Award_Sum',]]\n",
    "# Accessing the columns of interest for my new dataframe.\n",
    "\n",
    "statesum=bystate.groupby('State')['Award Amount'].agg('sum')\n",
    "# grouping by state and aggregating by sum for analysis.\n",
    "\n",
    "#Creating a dataframe so i can manipulate column info and then merge with schooldfs and create a new DF for analysis \n",
    "StateSum=pd.DataFrame(statesum)\n",
    "\n",
    "StateSum.columns=['State_Sum']\n",
    "#renaming column to a more desciptive column head\n",
    "StateSum=StateSum.reset_index()\n",
    "# Resetting index to merge back into the combined school dataframe."
   ]
  },
  {
   "cell_type": "markdown",
   "metadata": {},
   "source": [
    "#### Merging the DataFrames"
   ]
  },
  {
   "cell_type": "code",
   "execution_count": 14,
   "metadata": {},
   "outputs": [],
   "source": [
    "#Merging the two state dataframes back into the original and creating a new DF\n",
    "School=pd.merge(StateSum, schooldfs, left_on='State',right_on='State')"
   ]
  },
  {
   "cell_type": "markdown",
   "metadata": {},
   "source": [
    "# An examination of the type of Model selection by state, and the sum of money per model.\n",
    "\n"
   ]
  },
  {
   "cell_type": "markdown",
   "metadata": {},
   "source": [
    "#### Sum Per Model\n",
    "\n"
   ]
  },
  {
   "cell_type": "code",
   "execution_count": 15,
   "metadata": {},
   "outputs": [
    {
     "name": "stdout",
     "output_type": "stream",
     "text": [
      "[2.35725022e+08 1.66126100e+07 6.50265960e+07 1.20248800e+06]\n"
     ]
    }
   ],
   "source": [
    "\n",
    "ModelSum=School.loc[:,['Model Selected','Award Amount']]\n",
    "#Accessing the columns of interest\n",
    "\n",
    "ModelSum=ModelSum.groupby('Model Selected')['Award Amount'].agg('sum')\n",
    "#grouping by the model type and aggregating by the sum of the award amount\n",
    "ModelSum=pd.DataFrame(ModelSum)\n",
    "#Creating a DataFrame of the grouping\n",
    "ModelSum.columns=['Nat_Model_Sum']\n",
    "#renaming the columns to a more descriptive header\n",
    "ModelSum=ModelSum.reset_index()\n",
    "#resetting the index so I can Merge dataFrames\n",
    "School=pd.merge(School,ModelSum,left_on='Model Selected',right_on='Model Selected')\n",
    "#Merging with School Dataframe so I can plot results in later sections\n",
    "\n",
    "#Printing the unique values for the new created from the previous merge.\n",
    "print(School.Nat_Model_Sum.unique())"
   ]
  },
  {
   "cell_type": "markdown",
   "metadata": {},
   "source": [
    "### State:\n",
    "\n",
    "Now I will examine individual states and calculate the percent difference for the average funds granted to schools based on the type of model selected per state from the national average amount of funds granted to schools across all states. Where do the differences lie between states? This might be a good informative piece to see where the funds of the budget per model are allocated to per state. Will be good to cross reference with the count of models per state and see if there is an explanation as to why there are unusually high amounts of funds allocated per individual states."
   ]
  },
  {
   "cell_type": "code",
   "execution_count": 16,
   "metadata": {},
   "outputs": [
    {
     "name": "stdout",
     "output_type": "stream",
     "text": [
      "StateModel1 head and info\n",
      "===================================\n",
      "                      Sum_of_Funds_for_Model_per_State  \\\n",
      "State Model Selected                                     \n",
      "AK    Restart                                 697703.0   \n",
      "      Transformation                         2909713.0   \n",
      "AL    Transformation                         2300782.0   \n",
      "AR    Transformation                         3936109.0   \n",
      "AZ    Transformation                         8685637.0   \n",
      "\n",
      "                      Sum_of_Total_Funds_by_model_in_US  \\\n",
      "State Model Selected                                      \n",
      "AK    Restart                                16612610.0   \n",
      "      Transformation                        235725022.0   \n",
      "AL    Transformation                        235725022.0   \n",
      "AR    Transformation                        235725022.0   \n",
      "AZ    Transformation                        235725022.0   \n",
      "\n",
      "                      Model_type_funds_by_Total_Funds  \\\n",
      "State Model Selected                                    \n",
      "AK    Restart                                5.214798   \n",
      "      Transformation                        73.995496   \n",
      "AL    Transformation                        73.995496   \n",
      "AR    Transformation                        73.995496   \n",
      "AZ    Transformation                        73.995496   \n",
      "\n",
      "                      Funds_per_state_model_by_total_model_type_funds  \n",
      "State Model Selected                                                   \n",
      "AK    Restart                                                4.199840  \n",
      "      Transformation                                         1.234367  \n",
      "AL    Transformation                                         0.976045  \n",
      "AR    Transformation                                         1.669788  \n",
      "AZ    Transformation                                         3.684648  \n",
      "\n",
      "=====================================\n",
      "\n",
      "<class 'pandas.core.frame.DataFrame'>\n",
      "MultiIndex: 92 entries, (AK, Restart) to (WY, Transformation)\n",
      "Data columns (total 4 columns):\n",
      "Sum_of_Funds_for_Model_per_State                   92 non-null float64\n",
      "Sum_of_Total_Funds_by_model_in_US                  92 non-null float64\n",
      "Model_type_funds_by_Total_Funds                    92 non-null float64\n",
      "Funds_per_state_model_by_total_model_type_funds    92 non-null float64\n",
      "dtypes: float64(4)\n",
      "memory usage: 3.6+ KB\n",
      "None\n"
     ]
    }
   ],
   "source": [
    "\n",
    "StateModel=School[['State','Model Selected','Award Amount','Nat_Model_Sum']]\n",
    "# Selecting the columns of interest\n",
    "StateModel=StateModel.groupby(['State','Model Selected'])['Award Amount'].agg('sum')\n",
    "#Grouping by the State and the model selected and aggregating the values by mean.\n",
    "StateModel=pd.DataFrame(StateModel)\n",
    "\n",
    "StateModel.columns=['Sum_Award_Amount']\n",
    "#Resetting the columns to a more proper description\n",
    "StateModel=StateModel.reset_index()\n",
    "\n",
    "Merge2=School.loc[:,['Model Selected','Nat_Model_Sum']]\n",
    "\n",
    "StateModel=pd.merge(StateModel,Merge2,left_on='Model Selected',right_on='Model Selected')\n",
    "\n",
    "StateModel.drop_duplicates(inplace=True)\n",
    "\n",
    "StateModel.columns=['State','Model Selected','Sum_of_Funds_for_Model_per_State','Sum_of_Total_Funds_by_model_in_US']\n",
    "\n",
    "StateModel['Funds_per_state_model_by_total_model_type_funds'] = ((StateModel.Sum_of_Funds_for_Model_per_State / StateModel.Sum_of_Total_Funds_by_model_in_US)*100)\n",
    "#Calculating the sum of funds for each model by state\n",
    "StateModel['Model_type_funds_by_Total_Funds']=((StateModel.Sum_of_Total_Funds_by_model_in_US/(School['Award Amount'].sum()))*100)\n",
    "#caluclating the percentages that the sum of funds for each model type is of the total amount of funds.\n",
    "StateModel1=StateModel.loc[:,['State','Model Selected','Sum_of_Funds_for_Model_per_State','Sum_of_Total_Funds_by_model_in_US','Model_type_funds_by_Total_Funds','Funds_per_state_model_by_total_model_type_funds']]\n",
    "# Seperating the dataframe collecting only the columns of interest for analysis\n",
    "\n",
    "StateModel1= StateModel1.sort_values(['State','Model Selected']).set_index(['State','Model Selected'])\n",
    "\n",
    "print('StateModel1 head and info\\n===================================')\n",
    "print(StateModel1.head())\n",
    "print('\\n=====================================\\n')\n",
    "print(StateModel1.info())"
   ]
  },
  {
   "cell_type": "markdown",
   "metadata": {},
   "source": [
    "=====================\n",
    "\n",
    "Above is a table collecting the mean amount of money dedicated to the models throughout the state in comparison to the mean amount of money dedicated to the models overall throughout the country. The type of model can give us an idea as to how bad the schools in the state are in need of turning around. The amount of money allocated per model in each state in comparison to the national average can give us an idea as to how bad the state schools are in need of reformation. \n",
    "\n",
    "====================="
   ]
  },
  {
   "cell_type": "markdown",
   "metadata": {},
   "source": [
    "# Model Counts per state\n",
    "\n",
    "I want to graph the count of the models per state to get a sense of an idea as to what the States are choosing for models of reform. Will be interesting to cross reference with the average amount of money each state is getting for the chosen models."
   ]
  },
  {
   "cell_type": "code",
   "execution_count": 17,
   "metadata": {},
   "outputs": [
    {
     "name": "stdout",
     "output_type": "stream",
     "text": [
      "This is the count of the Models selected per State\n",
      "\n",
      "                      Model_Counts_per_State\n",
      "State Model Selected                        \n",
      "AK    Transformation                       6\n",
      "      Restart                              1\n",
      "AL    Transformation                      11\n",
      "AR    Transformation                       7\n",
      "AZ    Transformation                      12\n",
      "<class 'pandas.core.frame.DataFrame'>\n",
      "MultiIndex: 92 entries, (AK, Transformation) to (WY, Transformation)\n",
      "Data columns (total 1 columns):\n",
      "Model_Counts_per_State    92 non-null int64\n",
      "dtypes: int64(1)\n",
      "memory usage: 1.4+ KB\n",
      "None\n"
     ]
    }
   ],
   "source": [
    "StateModelCounts=School[['State','Model Selected']]\n",
    "# Creating a dataframe for the columns of interest\n",
    "StateModelCounts=StateModelCounts.groupby('State')['Model Selected'].value_counts()\n",
    "#Grouping the columns off of state and aggregating the models by the value counts\n",
    "StateModelCounts= pd.DataFrame(StateModelCounts)\n",
    "# Created a dataframe out of the model counts\n",
    "StateModelCounts.columns=['Model_Counts_per_State']\n",
    "#Renamed the columns to a proper description.\n",
    "\n",
    "print('This is the count of the Models selected per State\\n')\n",
    "print(StateModelCounts.head())\n",
    "print(StateModelCounts.info())"
   ]
  },
  {
   "cell_type": "markdown",
   "metadata": {},
   "source": [
    "# Plotting"
   ]
  },
  {
   "cell_type": "markdown",
   "metadata": {},
   "source": [
    "Display the total amount of funds. 318 million. Plot the breakdown of those funds by model type in the US. Then Plot the the model types by state across the US. Then display the Sum of funds by model type per state. Display the percentage that each state receives out of the total funds allocated per model type. Then display the sum of money that each district receives, then display a geomap displaying the money that each school receives and the model type they have."
   ]
  },
  {
   "cell_type": "markdown",
   "metadata": {},
   "source": [
    "## Plotting Funds and Percentages Allocated to each model Type\n",
    "\n",
    "Choose this one for presentation\n"
   ]
  },
  {
   "cell_type": "code",
   "execution_count": 18,
   "metadata": {},
   "outputs": [],
   "source": [
    "StateModel2=StateModel1.reset_index()\n",
    "#creating a new DF by resetting the  index of the StateModel dataframe\n",
    "TotalFunds=School['Award Amount']\n",
    "#Creating a new series and transforming into a dataframe to create a dataframe capable of plotting alongside the \n",
    "#sum of funds per model and the percentage of sums.\n",
    "TotalFunds=pd.DataFrame(TotalFunds)\n",
    "TotalFunds['XLabel']='Total Funds'\n",
    "TotalFunds['Sum of Funds']=TotalFunds['Award Amount'].sum()\n"
   ]
  },
  {
   "cell_type": "code",
   "execution_count": 19,
   "metadata": {
    "scrolled": false
   },
   "outputs": [
    {
     "name": "stdout",
     "output_type": "stream",
     "text": [
      "This is the format of your plot grid:\n",
      "[ (1,1) x1,y1 ]  [ (1,2) x2,y2 ]  [ (1,3) x3,y3 ]\n",
      "\n"
     ]
    },
    {
     "data": {
      "text/html": [
       "<iframe id=\"igraph\" scrolling=\"no\" style=\"border:none;\" seamless=\"seamless\" src=\"https://plot.ly/~Zelinska/63.embed\" height=\"800px\" width=\"900px\"></iframe>"
      ],
      "text/plain": [
       "<plotly.tools.PlotlyDisplay object>"
      ]
     },
     "execution_count": 19,
     "metadata": {},
     "output_type": "execute_result"
    }
   ],
   "source": [
    "Sums=go.Bar(x = StateModel2['Model Selected'], y =StateModel2.Sum_of_Total_Funds_by_model_in_US )\n",
    "Percentages=go.Bar(x = StateModel2['Model Selected'], y = StateModel2.Model_type_funds_by_Total_Funds)\n",
    "TotalFunds=go.Bar(x=TotalFunds.XLabel,y=TotalFunds['Sum of Funds'])\n",
    "#Creating the individual interactive bar graphs for the subplot.\n",
    "fig = tools.make_subplots(rows=1, cols=3, subplot_titles=('Model Type Sums', 'Model Type Percentages','Total Funding'))\n",
    "#giving a title and positioning each graph in the subplot\n",
    "fig.append_trace(Sums, 1,1)\n",
    "fig.append_trace(Percentages, 1,2)\n",
    "fig.append_trace(TotalFunds, 1,3)\n",
    "\n",
    "fig['layout'].update(height=800, width=900, title='Sum and Percentages of National Funds by Model Type')\n",
    "#adjusting the layout of the graph.\n",
    "py.iplot(fig, filename='Sum-And-Percentages-of-National-Funds')"
   ]
  },
  {
   "cell_type": "markdown",
   "metadata": {},
   "source": [
    "# Plot of Model Counts for each State + Plot of the Sum of money allocated per State"
   ]
  },
  {
   "cell_type": "code",
   "execution_count": 20,
   "metadata": {},
   "outputs": [],
   "source": [
    "StateModelCounts=StateModelCounts.reset_index()\n",
    "#restting the index of the Model counts DF for plotting purposes.\n",
    "StateModelCounts['Xlabelcount']=StateModelCounts.State.str.cat(StateModelCounts['Model Selected'],sep='-')\n",
    "#Creating the x label for the graph"
   ]
  },
  {
   "cell_type": "markdown",
   "metadata": {},
   "source": [
    "### Subplots for Funds allocated by State and the Model Counts by State"
   ]
  },
  {
   "cell_type": "code",
   "execution_count": 21,
   "metadata": {},
   "outputs": [
    {
     "name": "stdout",
     "output_type": "stream",
     "text": [
      "This is the format of your plot grid:\n",
      "[ (1,1) x1,y1 ]\n",
      "[ (2,1) x2,y2 ]\n",
      "\n"
     ]
    },
    {
     "data": {
      "text/html": [
       "<iframe id=\"igraph\" scrolling=\"no\" style=\"border:none;\" seamless=\"seamless\" src=\"https://plot.ly/~Zelinska/8.embed\" height=\"800px\" width=\"900px\"></iframe>"
      ],
      "text/plain": [
       "<plotly.tools.PlotlyDisplay object>"
      ]
     },
     "execution_count": 21,
     "metadata": {},
     "output_type": "execute_result"
    }
   ],
   "source": [
    "Allocated=go.Bar(x = StateSum.State, y =StateSum.State_Sum)\n",
    "StateModelCount=go.Bar(x = StateModelCounts.Xlabelcount, y =StateModelCounts.Model_Counts_per_State)\n",
    "\n",
    "\n",
    "fig = tools.make_subplots(rows=2, cols=1, subplot_titles=('Funds Allocated by State', 'Counts of Model Type Chosen by Schools in Each State'))\n",
    "\n",
    "fig.append_trace(Allocated, 1,1)\n",
    "fig.append_trace(StateModelCount, 2,1)\n",
    "\n",
    "fig['layout'].update(height=800, width=900, title= 'Funds Allocated by State and Model Counts by State')\n",
    "\n",
    "py.iplot(fig, filename = 'Allocated-Funds-by-State-and-Model-Counts-by-State')"
   ]
  },
  {
   "cell_type": "markdown",
   "metadata": {},
   "source": [
    "#### What is interesting to see here is to compare the total amount of funds allocated to each state and compare that to the total amount school models chosen by state. Look at california, They have more schools, especially more schools who have chosen the Transformation model. The most common type of reform, yet the funds allocated to that state are but a fraction of the funds allocated to Florida. These types of discrepancies warrant further investigation. From this I will examine the amount of funds allocated to each state by the type of models chosen by the schools."
   ]
  },
  {
   "cell_type": "markdown",
   "metadata": {},
   "source": [
    "# Funding Sum of model per state"
   ]
  },
  {
   "cell_type": "markdown",
   "metadata": {},
   "source": [
    "### The plots are likely too large. I will create a new dataframe for each Reform Model."
   ]
  },
  {
   "cell_type": "markdown",
   "metadata": {},
   "source": [
    "### Type of Models"
   ]
  },
  {
   "cell_type": "code",
   "execution_count": 22,
   "metadata": {},
   "outputs": [],
   "source": [
    "#TransformationModel\n",
    "StateTransFormation=StateModel1.loc[(slice(None),'Transformation'),['Sum_of_Funds_for_Model_per_State','Sum_of_Total_Funds_by_model_in_US','Model_type_funds_by_Total_Funds','Funds_per_state_model_by_total_model_type_funds']]\n",
    "#Creating a new DF for each model type so i can plot\n",
    "StateTransFormation=StateTransFormation.reset_index()\n",
    "\n",
    "#RestartModel\n",
    "StateRestart=StateModel1.loc[(slice(None),'Restart'),['Sum_of_Funds_for_Model_per_State','Sum_of_Total_Funds_by_model_in_US','Model_type_funds_by_Total_Funds','Funds_per_state_model_by_total_model_type_funds']]\n",
    "\n",
    "StateRestart=StateRestart.reset_index()\n",
    "\n",
    "#TurnaroundModel\n",
    "StateTurn=StateModel1.loc[(slice(None),'Turnaround'),['Sum_of_Funds_for_Model_per_State','Sum_of_Total_Funds_by_model_in_US','Model_type_funds_by_Total_Funds','Funds_per_state_model_by_total_model_type_funds']]\n",
    "StateTurn=StateTurn.reset_index()\n",
    "\n",
    "#ClosureModel\n",
    "StateClose=StateModel1.loc[(slice(None),'Closure'),['Sum_of_Funds_for_Model_per_State','Sum_of_Total_Funds_by_model_in_US','Model_type_funds_by_Total_Funds','Funds_per_state_model_by_total_model_type_funds']]\n",
    "StateClose=StateClose.reset_index()\n"
   ]
  },
  {
   "cell_type": "markdown",
   "metadata": {},
   "source": [
    "### Subplots for the Models"
   ]
  },
  {
   "cell_type": "markdown",
   "metadata": {},
   "source": [
    "##### The Sums"
   ]
  },
  {
   "cell_type": "code",
   "execution_count": 35,
   "metadata": {
    "scrolled": false
   },
   "outputs": [
    {
     "name": "stdout",
     "output_type": "stream",
     "text": [
      "This is the format of your plot grid:\n",
      "[ (1,1) x1,y1 ]  [ (1,2) x2,y2 ]\n",
      "[ (2,1) x3,y3 ]  [ (2,2) x4,y4 ]\n",
      "\n",
      "High five! You successfully sent some data to your account on plotly. View your plot in your browser at https://plot.ly/~Zelinska/0 or inside your plot.ly account where it is named 'Funds-By-State-Per-Model-Type'\n"
     ]
    },
    {
     "data": {
      "text/html": [
       "<iframe id=\"igraph\" scrolling=\"no\" style=\"border:none;\" seamless=\"seamless\" src=\"https://plot.ly/~Zelinska/0.embed\" height=\"800px\" width=\"900px\"></iframe>"
      ],
      "text/plain": [
       "<plotly.tools.PlotlyDisplay object>"
      ]
     },
     "execution_count": 35,
     "metadata": {},
     "output_type": "execute_result"
    }
   ],
   "source": [
    "#Same process as previous subplot\n",
    "Transformation=go.Bar(x = StateTransFormation.State, y =StateTransFormation.Sum_of_Funds_for_Model_per_State)\n",
    "Turnaround=go.Bar(x = StateTurn.State, y =StateTurn.Sum_of_Funds_for_Model_per_State)\n",
    "Restart=go.Bar(x = StateRestart.State, y =StateRestart.Sum_of_Funds_for_Model_per_State)\n",
    "Closure=go.Bar(x = StateClose.State, y =StateClose.Sum_of_Funds_for_Model_per_State)\n",
    "\n",
    "fig = tools.make_subplots(rows=2, cols=2, subplot_titles=('Transformation', 'Turnaround',\n",
    "                                                          'Restart', 'Closure'))\n",
    "\n",
    "fig.append_trace(Transformation, 1,1)\n",
    "fig.append_trace(Turnaround, 1,2)\n",
    "fig.append_trace(Restart, 2,1)\n",
    "fig.append_trace(Closure, 2,2)\n",
    "\n",
    "fig['layout'].update(height=800, width=900, title='Sum of Funds by State Per Model Type')\n",
    "\n",
    "py.iplot(fig, filename= 'Funds-By-State-Per-Model-Type')\n"
   ]
  },
  {
   "cell_type": "markdown",
   "metadata": {},
   "source": [
    "#### When you examine the allocation of funds by model per state, we can see that states like florida and Pennsylvania have an unusually high amount of funds given to these schools for these models. This analysis provides a breakdown into what types of reform the money is being allocated to."
   ]
  },
  {
   "cell_type": "markdown",
   "metadata": {},
   "source": [
    "### The percentages"
   ]
  },
  {
   "cell_type": "code",
   "execution_count": 24,
   "metadata": {},
   "outputs": [
    {
     "name": "stdout",
     "output_type": "stream",
     "text": [
      "This is the format of your plot grid:\n",
      "[ (1,1) x1,y1 ]  [ (1,2) x2,y2 ]\n",
      "[ (2,1) x3,y3 ]  [ (2,2) x4,y4 ]\n",
      "\n"
     ]
    },
    {
     "data": {
      "text/html": [
       "<iframe id=\"igraph\" scrolling=\"no\" style=\"border:none;\" seamless=\"seamless\" src=\"https://plot.ly/~Zelinska/58.embed\" height=\"800px\" width=\"900px\"></iframe>"
      ],
      "text/plain": [
       "<plotly.tools.PlotlyDisplay object>"
      ]
     },
     "execution_count": 24,
     "metadata": {},
     "output_type": "execute_result"
    }
   ],
   "source": [
    "#Same process\n",
    "Transformation=go.Bar(x = StateTransFormation.State, y =StateTransFormation.Funds_per_state_model_by_total_model_type_funds)\n",
    "Turnaround=go.Bar(x = StateTurn.State, y =StateTurn.Funds_per_state_model_by_total_model_type_funds)\n",
    "Restart=go.Bar(x = StateRestart.State, y =StateRestart.Funds_per_state_model_by_total_model_type_funds)\n",
    "Closure=go.Bar(x = StateClose.State, y =StateClose.Funds_per_state_model_by_total_model_type_funds)\n",
    "\n",
    "fig = tools.make_subplots(rows=2, cols=2, subplot_titles=('Transformation', 'Turnaround',\n",
    "                                                          'Restart', 'Closure'))\n",
    "\n",
    "fig.append_trace(Transformation, 1,1)\n",
    "fig.append_trace(Turnaround, 1,2)\n",
    "fig.append_trace(Restart, 2,1)\n",
    "fig.append_trace(Closure, 2,2)\n",
    "\n",
    "fig['layout'].update(height=800, width=900, title='Percentage of Funds allocated to each State For Each Model Type')\n",
    "\n",
    "py.iplot(fig, filename = 'Percentage-Funds-By-State-Per-Model-Type')"
   ]
  },
  {
   "cell_type": "markdown",
   "metadata": {},
   "source": [
    "Another way to look at the money allocated to states per type of model is by the percentage of total funds. So, of all the money that is allocated to the respected models. The percentages per state is calculated above. Refer to the fisrt figure to see how much money is allocated to each type of model."
   ]
  },
  {
   "cell_type": "markdown",
   "metadata": {},
   "source": [
    "# Plot of the Sum of Money for each district within each State"
   ]
  },
  {
   "cell_type": "code",
   "execution_count": 25,
   "metadata": {
    "scrolled": true
   },
   "outputs": [],
   "source": [
    "DistrictSum=DistSum.reset_index() \n",
    "#Resetting the index for ploting purposes\n",
    "DistrictSum['State-District']=DistrictSum.State.str.cat(DistrictSum['District Name'],sep='-')\n",
    "#creating a new column to concatenate the State with the district name for plotting purposes"
   ]
  },
  {
   "cell_type": "markdown",
   "metadata": {},
   "source": [
    "##  An interactive map, displaying the locations of the Districts, the funds for each District."
   ]
  },
  {
   "cell_type": "markdown",
   "metadata": {},
   "source": [
    "#### Seperating out the Long and Latitutde to create id tags for each school district."
   ]
  },
  {
   "cell_type": "code",
   "execution_count": 26,
   "metadata": {},
   "outputs": [],
   "source": [
    "Location=School.loc[:,['School Name','District Name','Award Amount','Location']]\n",
    "\n",
    "Location[\"Latitude\"]  = Location.Location.str.split(\"\\n\").apply(pd.Series)[2].str.replace(\"(\", \"\").str.replace(\")\", \"\").str.split(\",\").apply(pd.Series)[0].astype(float)\n",
    "Location[\"Longitude\"] = Location.Location.str.split(\"\\n\").apply(pd.Series)[2].str.replace(\"(\", \"\").str.replace(\")\", \"\").str.split(\",\").apply(pd.Series)[1].astype(float)\n",
    "#Seperating the longitude and latitude out of the Location column so i can utilize in a map plot.\n",
    "DistrictLocation=Location['District Name'] ## Creating District Location so i can create new longitude and lat \n",
    "#columns the rows will match so there will be no missing values\n",
    "\n",
    "DistrictLocation=pd.DataFrame(DistrictLocation)\n",
    "#Creating a dataframe out of the series\n",
    "DistrictLocation.drop_duplicates(subset='District Name',inplace=True)\n",
    "#dropping duplicates from the DF\n",
    "DistrictLocation=DistrictLocation.sort_values(by='District Name')\n",
    "#Sorting by the districe name\n",
    "DistrictLocation=DistrictLocation.reset_index()\n",
    "#resetting indec\n",
    "DistrictLocation.drop(columns='index',inplace=True)\n",
    "#dropping the index column \n",
    "\n",
    "LocGroup1=Location.groupby(['District Name'])['Latitude'].mean()\n",
    "## I had to group the latitude column to create a location for each district instead of just the schools. \n",
    "#This involved grouping by districts and aggregating by the mean.\n",
    "\n",
    "LocGroup2=Location.groupby(['District Name'])['Longitude'].mean()\n",
    "#Same process\n",
    "\n",
    "LocGroupLat=pd.DataFrame(LocGroup1)\n",
    "LocGroupLat=LocGroupLat.reset_index()\n",
    "LocGroupLat.columns=[['District_Name','District Lat']]\n",
    "#Creating a DF to create a new Lat column\n",
    "\n",
    "LocGroupLong=pd.DataFrame(LocGroup2)\n",
    "LocGroupLong=LocGroupLong.reset_index()\n",
    "LocGroupLong.columns=[['District_Name','District Long']]\n",
    "#Same for Long\n",
    "\n",
    "DistrictLocation['District_Latitude']= LocGroupLat['District Lat']\n",
    "DistrictLocation['District_Longitude']=LocGroupLong['District Long']\n",
    "DistrictLocation['Sum_Award']=DistrictSum.District_Sum\n",
    "#Setting everything up to plot"
   ]
  },
  {
   "cell_type": "code",
   "execution_count": 27,
   "metadata": {},
   "outputs": [
    {
     "data": {
      "text/html": [
       "<iframe id=\"igraph\" scrolling=\"no\" style=\"border:none;\" seamless=\"seamless\" src=\"https://plot.ly/~Zelinska/20.embed\" height=\"525px\" width=\"100%\"></iframe>"
      ],
      "text/plain": [
       "<plotly.tools.PlotlyDisplay object>"
      ]
     },
     "execution_count": 27,
     "metadata": {},
     "output_type": "execute_result"
    }
   ],
   "source": [
    "# This is a geo plot, it takes the long and lat for each district. Displayed is a map containing the values \n",
    "#for each district, it displays the districts and the associated money with them.\n",
    "py.iplot(go.Figure(\n",
    "    data = [\n",
    "        go.Scattergeo(\n",
    "            lon = DistrictLocation.District_Longitude,\n",
    "            lat = DistrictLocation.District_Latitude,\n",
    "            mode = \"markers\",\n",
    "            text =  DistrictLocation['District Name']+ ' - $'+ DistrictLocation.Sum_Award.astype('str'),\n",
    "            marker = {\n",
    "                \n",
    "                \"color\": DistrictLocation.Sum_Award,\n",
    "                \"colorscale\": \"Hot\",\n",
    "                \"reversescale\": True,\n",
    "                \"colorbar\": {\n",
    "                    \"title\": \"District Funding\"\n",
    "                }\n",
    "            }\n",
    "        )\n",
    "    ],\n",
    "    \n",
    "    layout = go.Layout(\n",
    "        geo = dict(\n",
    "            scope = \"usa\",\n",
    "            showland = True,\n",
    "            landcolor = \"#408040\",\n",
    "            showocean = True,\n",
    "            oceancolor = \"#202020\"\n",
    "            \n",
    "        ),\n",
    "        title='Sum of Funds Allocated by District'\n",
    "    )), \n",
    "        filename='Geoplot-Of-Funds-By-District-and-State')"
   ]
  },
  {
   "cell_type": "markdown",
   "metadata": {},
   "source": [
    "## Table for the individual Schools"
   ]
  },
  {
   "cell_type": "code",
   "execution_count": 28,
   "metadata": {},
   "outputs": [],
   "source": [
    "SchoolTable=School[['State','District Name','School Name','Award Amount','Model Selected']]\n",
    "SchoolTable=SchoolTable.sort_values(by=(['State','District Name','School Name']))\n",
    "#Creating a table out of the information to create the scatterplot and table data below.\n",
    "Schoolinfo1=SchoolTable.State.str.cat(SchoolTable['District Name'],sep='-')\n",
    "SchoolTable['School_Information']=Schoolinfo1.str.cat(SchoolTable['School Name'],sep='-')"
   ]
  },
  {
   "cell_type": "code",
   "execution_count": 29,
   "metadata": {},
   "outputs": [
    {
     "data": {
      "text/html": [
       "<iframe id=\"igraph\" scrolling=\"no\" style=\"border:none;\" seamless=\"seamless\" src=\"https://plot.ly/~Zelinska/17.embed\" height=\"800px\" width=\"1000px\"></iframe>"
      ],
      "text/plain": [
       "<plotly.tools.PlotlyDisplay object>"
      ]
     },
     "execution_count": 29,
     "metadata": {},
     "output_type": "execute_result"
    }
   ],
   "source": [
    "#Creating a scatterplot of the schools and their information\n",
    "py.iplot(go.Figure(\n",
    "    data = [\n",
    "        go.Scatter(x = SchoolTable.School_Information, y = SchoolTable['Award Amount'],\n",
    "        mode='markers',\n",
    "        )\n",
    "    ],\n",
    "    \n",
    "    \n",
    "    layout = go.Layout(\n",
    "        height = 800,\n",
    "        width=1000,\n",
    "        title='Funds Allocated to Schools by State and District',\n",
    "        \n",
    "    )\n",
    "), filename ='ScatterOfFundsbySchool')"
   ]
  },
  {
   "cell_type": "code",
   "execution_count": 30,
   "metadata": {},
   "outputs": [
    {
     "data": {
      "text/html": [
       "<iframe id=\"igraph\" scrolling=\"no\" style=\"border:none;\" seamless=\"seamless\" src=\"https://plot.ly/~Zelinska/61.embed\" height=\"800px\" width=\"1000px\"></iframe>"
      ],
      "text/plain": [
       "<plotly.tools.PlotlyDisplay object>"
      ]
     },
     "execution_count": 30,
     "metadata": {},
     "output_type": "execute_result"
    }
   ],
   "source": [
    "#Creating a datatable of the schools and their information\n",
    "trace = go.Table(\n",
    "    header=dict(values=['State', 'District Name', 'School Name', 'Award Amount','Model Selected'],\n",
    "                line = dict(color='#7D7F80'),\n",
    "                fill = dict(color='#a1c3d1'),\n",
    "                align = ['left'] * 5),\n",
    "    cells=dict(values=[SchoolTable['State'],\n",
    "                       SchoolTable['District Name'],\n",
    "                       SchoolTable['School Name'],\n",
    "                       SchoolTable['Award Amount'],\n",
    "                      SchoolTable['Model Selected']],\n",
    "               line = dict(color='#7D7F80'),\n",
    "               fill = dict(color='#EDFAFF'),\n",
    "               align = ['left'] * 5))\n",
    "\n",
    "layout = dict(width=1000, height=800)\n",
    "data = [trace]\n",
    "fig = dict(data=data, layout=layout)\n",
    "py.iplot(fig, filename = 'District-And-School-Table')\n",
    "\n"
   ]
  },
  {
   "cell_type": "code",
   "execution_count": null,
   "metadata": {},
   "outputs": [],
   "source": []
  }
 ],
 "metadata": {
  "kernelspec": {
   "display_name": "Python 3",
   "language": "python",
   "name": "python3"
  },
  "language_info": {
   "codemirror_mode": {
    "name": "ipython",
    "version": 3
   },
   "file_extension": ".py",
   "mimetype": "text/x-python",
   "name": "python",
   "nbconvert_exporter": "python",
   "pygments_lexer": "ipython3",
   "version": "3.6.5"
  }
 },
 "nbformat": 4,
 "nbformat_minor": 2
}
